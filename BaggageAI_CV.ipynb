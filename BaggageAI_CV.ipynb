{
 "cells": [
  {
   "cell_type": "markdown",
   "metadata": {},
   "source": [
    "# BaggageAI CV Assignment"
   ]
  },
  {
   "cell_type": "markdown",
   "metadata": {},
   "source": [
    "# Importing libraries"
   ]
  },
  {
   "cell_type": "code",
   "execution_count": 1,
   "metadata": {},
   "outputs": [],
   "source": [
    "import cv2\n",
    "import imutils\n",
    "from PIL import Image\n",
    "import glob\n",
    "import numpy"
   ]
  },
  {
   "cell_type": "markdown",
   "metadata": {},
   "source": [
    "# Uploading threat images in image_list"
   ]
  },
  {
   "cell_type": "code",
   "execution_count": 2,
   "metadata": {},
   "outputs": [],
   "source": [
    "image_list = [Image.open(item) for i in [glob.glob('C:/users/admin/BaggageAI_CV_Hiring_Assignment/BaggageAI_CV_Hiring_Assignment/threat_images/*.%s' % ext) for ext in [\"jpg\",\"gif\",\"png\",\"tga\"]] for item in i]"
   ]
  },
  {
   "cell_type": "code",
   "execution_count": 3,
   "metadata": {},
   "outputs": [
    {
     "data": {
      "text/plain": [
       "[<PIL.JpegImagePlugin.JpegImageFile image mode=RGB size=232x768 at 0x2A478097970>,\n",
       " <PIL.JpegImagePlugin.JpegImageFile image mode=RGB size=157x768 at 0x2A47978BAC0>,\n",
       " <PIL.JpegImagePlugin.JpegImageFile image mode=RGB size=147x832 at 0x2A47978BB20>,\n",
       " <PIL.JpegImagePlugin.JpegImageFile image mode=RGB size=273x768 at 0x2A47978BBB0>,\n",
       " <PIL.JpegImagePlugin.JpegImageFile image mode=RGB size=347x768 at 0x2A47978BC10>]"
      ]
     },
     "execution_count": 3,
     "metadata": {},
     "output_type": "execute_result"
    }
   ],
   "source": [
    "image_list"
   ]
  },
  {
   "cell_type": "markdown",
   "metadata": {},
   "source": [
    "# Making mask"
   ]
  },
  {
   "cell_type": "code",
   "execution_count": 4,
   "metadata": {},
   "outputs": [],
   "source": [
    "masked=[]\n",
    "image_no=1\n",
    "TRANSPARENCY=60 #transparency percentage\n",
    "for img in image_list:\n",
    "  mask_2=img.convert(\"L\")\n",
    "  th=240\n",
    "  mask_2 = mask_2.point(lambda i: i < th and 255) \n",
    "  paste_mask_2 = mask_2.split()[0].point(lambda i: i * TRANSPARENCY / 100.)\n",
    "  masked.append(paste_mask_2)\n",
    "  name = \"C:/users/admin/BaggageAI_CV_Hiring_Assignment/BaggageAI_CV_Hiring_Assignment/paste_mask/\"+'paste_mask' + str(image_no) + '.png'\n",
    "  paste_mask_2.save(name, 'PNG')\n",
    "  image_no += 1"
   ]
  },
  {
   "cell_type": "code",
   "execution_count": 5,
   "metadata": {},
   "outputs": [
    {
     "data": {
      "text/plain": [
       "[<PIL.Image.Image image mode=L size=232x768 at 0x2A4797B0C40>,\n",
       " <PIL.Image.Image image mode=L size=157x768 at 0x2A4797B0D00>,\n",
       " <PIL.Image.Image image mode=L size=147x832 at 0x2A4797B0C70>,\n",
       " <PIL.Image.Image image mode=L size=273x768 at 0x2A4797B0C10>,\n",
       " <PIL.Image.Image image mode=L size=347x768 at 0x2A4797B0DF0>]"
      ]
     },
     "execution_count": 5,
     "metadata": {},
     "output_type": "execute_result"
    }
   ],
   "source": [
    "masked "
   ]
  },
  {
   "cell_type": "markdown",
   "metadata": {},
   "source": [
    "# saving height of background image in a list"
   ]
  },
  {
   "cell_type": "code",
   "execution_count": 6,
   "metadata": {},
   "outputs": [],
   "source": [
    "images_list=[]\n",
    "for filename in glob.glob(\"C:/users/admin/BaggageAI_CV_Hiring_Assignment/BaggageAI_CV_Hiring_Assignment/background_images/*.jpg\"):\n",
    "    im=Image.open(filename)\n",
    "    images_list.append(im.size[1])"
   ]
  },
  {
   "cell_type": "code",
   "execution_count": 7,
   "metadata": {},
   "outputs": [
    {
     "data": {
      "text/plain": [
       "[377, 191, 600, 793, 630]"
      ]
     },
     "execution_count": 7,
     "metadata": {},
     "output_type": "execute_result"
    }
   ],
   "source": [
    "images_list"
   ]
  },
  {
   "cell_type": "markdown",
   "metadata": {},
   "source": [
    "# Resizing and Rotating threat image"
   ]
  },
  {
   "cell_type": "code",
   "execution_count": 8,
   "metadata": {},
   "outputs": [],
   "source": [
    "image_no=1\n",
    "\n",
    "for (filename,i) in zip(glob.glob(\"C:/users/admin/BaggageAI_CV_Hiring_Assignment/BaggageAI_CV_Hiring_Assignment/threat_images/*.jpg\"),images_list):\n",
    "    images=cv2.imread(filename)  \n",
    "    image = imutils.resize(images,height=i) \n",
    "    rotate = imutils.rotate_bound(image, 45) #rotate by 45 degrees\n",
    "    name = (\"C:/users/admin/BaggageAI_CV_Hiring_Assignment/BaggageAI_CV_Hiring_Assignment/resized/\")+'resized' + str(image_no) + '.png'\n",
    "    cv2.imwrite(name, rotate)\n",
    "    image_no += 1"
   ]
  },
  {
   "cell_type": "markdown",
   "metadata": {},
   "source": [
    "# Resizing and Rotating mask"
   ]
  },
  {
   "cell_type": "code",
   "execution_count": 9,
   "metadata": {},
   "outputs": [],
   "source": [
    "image_no=1\n",
    "\n",
    "for (filename,i) in zip(masked,images_list):\n",
    "    images = cv2.cvtColor(numpy.array(filename),cv2.COLOR_RGB2BGR) #reading after converting to numpy array and saved in PIL format \n",
    "    image = imutils.resize(images,height=i)\n",
    "    rotate = imutils.rotate_bound(image, 45)\n",
    "    name = (\"C:/users/admin/BaggageAI_CV_Hiring_Assignment/BaggageAI_CV_Hiring_Assignment/resized_mask/\")+'resized_mask' + str(image_no) + '.png'\n",
    "    cv2.imwrite(name, rotate)\n",
    "    image_no += 1"
   ]
  },
  {
   "cell_type": "code",
   "execution_count": 10,
   "metadata": {},
   "outputs": [],
   "source": [
    "l=[1,2,3,4,5] "
   ]
  },
  {
   "cell_type": "markdown",
   "metadata": {},
   "source": [
    "# Pasting threat image on background image"
   ]
  },
  {
   "cell_type": "code",
   "execution_count": 11,
   "metadata": {},
   "outputs": [],
   "source": [
    "image_no=1\n",
    "\n",
    "for (filename,i,j) in zip(glob.glob(\"C:/users/admin/BaggageAI_CV_Hiring_Assignment/BaggageAI_CV_Hiring_Assignment/background_images/*.jpg\"),l,l):\n",
    "  im1=Image.open(filename) \n",
    "  back_im = im1.copy()\n",
    "  im2 = Image.open(\"C:/Users/admin/BaggageAI_CV_Hiring_Assignment/BaggageAI_CV_Hiring_Assignment/resized/\"+'resized'+str(i)+'.png') #resized and rotated threat image\n",
    "  mask_im = Image.open(\"C:/Users/admin/BaggageAI_CV_Hiring_Assignment/BaggageAI_CV_Hiring_Assignment/resized_mask/\"+'resized_mask'+str(j)+'.png') #resized and rotated mask\n",
    "  mask_imm=mask_im.convert('L')#covert to single channel image\n",
    "  back_im.paste(im2, (48,40), mask_imm) \n",
    "  name = \"C:/Users/admin/BaggageAI_CV_Hiring_Assignment/BaggageAI_CV_Hiring_Assignment/output/\"+'output' + str(image_no) + '.png'\n",
    "  back_im.save(name, quality=95)\n",
    "  image_no += 1"
   ]
  },
  {
   "cell_type": "code",
   "execution_count": null,
   "metadata": {},
   "outputs": [],
   "source": []
  }
 ],
 "metadata": {
  "kernelspec": {
   "display_name": "Python 3",
   "language": "python",
   "name": "python3"
  },
  "language_info": {
   "codemirror_mode": {
    "name": "ipython",
    "version": 3
   },
   "file_extension": ".py",
   "mimetype": "text/x-python",
   "name": "python",
   "nbconvert_exporter": "python",
   "pygments_lexer": "ipython3",
   "version": "3.8.5"
  }
 },
 "nbformat": 4,
 "nbformat_minor": 4
}
